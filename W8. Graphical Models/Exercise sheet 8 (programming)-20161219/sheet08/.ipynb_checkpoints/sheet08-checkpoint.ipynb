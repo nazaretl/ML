{
 "cells": [
  {
   "cell_type": "markdown",
   "metadata": {},
   "source": [
    "# Graphical Models\n",
    "\n",
    "In this exercise, you will construct several graphical models for the MNIST dataset, and perform inference on them to determine the most likely class for each example. You are provided with a modular graphical model implementation (`graphical.py`). It lets you specify the graph (Variables and Factors) in an object oriented fashion and does inference automatically. Because the implementation is generic (it can handle any directed tree), it can be quite slow for large networks.\n",
    "\n",
    "The data is stored in the file `mnist.mat`. The handwritten digits are cropped to 20x20 pixels. The data is accessed through the method `utils.getData()` and returns three matrices: the input `X`, the labels `T`, and some additional data `Z` that will be used in the second part of the exercise.\n",
    "\n",
    "## Example of Execution\n",
    "\n",
    "You are provided with a simple example where the most likely class is inferred based on the number of activated pixels in the top part of the 20x20 image (first 10 rows), and the number of activated pixels (called levels) in the bottom part of the image (last 10 rows). The corresponding graphical model is depicted in the diagram below. The letter V denotes the variables, and the letter F denotes the factors.\n",
    "\n",
    "![scenario1](files/scenario1.png)\n",
    "\n",
    "The sum operator counts the number of white pixels in the corresponding region of the image. Note that this model looses a lot of information (all details within the top and bottom part of the image), and thus, the predictive accuracy is expected to be low (here, ~30%)."
   ]
  },
  {
   "cell_type": "code",
   "execution_count": null,
   "metadata": {
    "collapsed": false
   },
   "outputs": [],
   "source": [
    "import utils\n",
    "import numpy\n",
    "from graphical import *\n",
    "\n",
    "X,T,_ = utils.getData()\n",
    "    \n",
    "nbclasses = 10\n",
    "nblevels  = 201\n",
    "\n",
    "# =========================================\n",
    "# BUILD THE MODEL\n",
    "# =========================================\n",
    "\n",
    "# -----------------------------------------\n",
    "# Compute the evidence for VX1 and VX2\n",
    "# -----------------------------------------\n",
    "Xtop = X[:,:10,:].sum(axis=2).sum(axis=1)\n",
    "Xbot = X[:,10:,:].sum(axis=2).sum(axis=1)\n",
    "\n",
    "# -----------------------------------------\n",
    "# Define the variable nodes\n",
    "# -----------------------------------------\n",
    "VT  = VariableNode(\"VT\",nbclasses)\n",
    "VX1 = VariableNode(\"VX1\",nblevels)\n",
    "VX2 = VariableNode(\"VX2\",nblevels)\n",
    "\n",
    "# -----------------------------------------\n",
    "# Compute class factors\n",
    "# -----------------------------------------\n",
    "nbexamples = numpy.zeros([nbclasses])\n",
    "for cl in range(nbclasses):\n",
    "    nbexamples[cl] = (T==cl).sum()\n",
    "    \n",
    "PT = (nbexamples+1) / (nbexamples+1).sum() # adding 1 avoids log(0)\n",
    "FT = FactorNode(\"FT\",numpy.log(PT),[VT])\n",
    "\n",
    "# -----------------------------------------\n",
    "# Compute class-level factors (top)\n",
    "# -----------------------------------------\n",
    "nbexamples = numpy.zeros([nbclasses,nblevels])\n",
    "for cl in range(nbclasses):\n",
    "    x = Xtop[T==cl]\n",
    "    for lv in range(nblevels):\n",
    "        nbexamples[cl,lv] = (x==lv).sum()\n",
    "\n",
    "PXT1 = (nbexamples+1) / (nbexamples+1).sum(axis=1)[:,numpy.newaxis] # adding 1 avoids log(0)\n",
    "FXT1 = FactorNode(\"FXT\",numpy.log(PXT1),[VT,VX1])\n",
    "\n",
    "# -----------------------------------------\n",
    "# Compute class-level factors (bottom)\n",
    "# -----------------------------------------\n",
    "nbexamples = numpy.zeros([nbclasses,nblevels])\n",
    "for cl in range(nbclasses):\n",
    "    x = Xbot[T==cl]\n",
    "    for lv in range(nblevels):\n",
    "        nbexamples[cl,lv] = (x==lv).sum()\n",
    "        \n",
    "PXT2 = (nbexamples+1) / (nbexamples+1).sum(axis=1)[:,numpy.newaxis] # adding 1 avoids log(0)\n",
    "FXT2 = FactorNode(\"FXT\",numpy.log(PXT2),[VT,VX2])\n",
    "\n",
    "# =========================================\n",
    "# INFER CLASSES FOR TEST DATA\n",
    "# =========================================\n",
    "def predict(x):\n",
    "    VX1.evidence = x[:10,:].sum()\n",
    "    VX2.evidence = x[10:,:].sum()\n",
    "    VT.initiateMessagePassing(None)\n",
    "    return numpy.argmax(VT.computeMarginal())\n",
    "\n",
    "print('Accuracy: %.3f'%utils.getAccuracy(predict,debug=False))"
   ]
  },
  {
   "cell_type": "code",
   "execution_count": null,
   "metadata": {
    "collapsed": true
   },
   "outputs": [],
   "source": []
  },
  {
   "cell_type": "code",
   "execution_count": null,
   "metadata": {
    "collapsed": true
   },
   "outputs": [],
   "source": []
  },
  {
   "cell_type": "markdown",
   "metadata": {},
   "source": [
    "## Shallow Model (25 P)\n",
    "\n",
    "We would like to modify the model above in the following way: We define 400 input nodes (as many nodes as pixels of the 20x20 image) with two possible states (black or white). Each input node is connected to the class node. Given a particular class is observed, the input nodes are assumed to be independent. A diagram of the proposed model is given below:\n",
    "\n",
    "\n",
    "![scenario2](files/scenario2.png)\n",
    "\n",
    "\n",
    "**Tasks:**\n",
    "\n",
    "* **Implement the graphical model shown above. Set the factors to their most likely value given the data (X,T). Use the same variable names as in the diagram above. (20 P)**\n",
    "\n",
    "* **Print the classification accuracy of the graphical model you have implemented. (5 P)**"
   ]
  },
  {
   "cell_type": "code",
   "execution_count": null,
   "metadata": {
    "collapsed": false
   },
   "outputs": [],
   "source": [
    "# REPLACE BY YOUR CODE\n",
    "import solution\n",
    "solution.shallow()\n",
    "# --------------------"
   ]
  },
  {
   "cell_type": "markdown",
   "metadata": {},
   "source": [
    "## Hierarchical Model (25 P)\n",
    "\n",
    "We now would like to construct a more complex architecture consisting of two layers. There are 400 input nodes that are separated into 16 groups representing local regions of the image of size 5x5. As in the previous model, each input node has 2 possible states (black or white). Each input node is only connected to its associated group node that has 12 possible states (called subclasses). The state of these group nodes is available for the training data and is returned by the method `utils.getData()`, and can therefore be used to set the factors of the hierarchical model. All group nodes are connected to the top-level class node. In this hierarchical model, the group nodes are independent given the class is known, and the pixel values within a patch are independent given that the state of the associated group node is known. However, the pixels within the same group are no longer independent given the class only. These correlations caused by the unknown state of the group node confer added representational power to the model. A diagram of the model is given below:\n",
    "\n",
    "![scenario3](files/scenario3.png)\n",
    "\n",
    "**Tasks:**\n",
    "\n",
    "* **Implement the graphical model shown above. Set the factors to their most likely value given the data (X,T,Z). Use the same variable names as in the diagram above. (20 P)**\n",
    "\n",
    "* **Print the classification accuracy of the graphical model you have implemented. (5 P)**"
   ]
  },
  {
   "cell_type": "code",
   "execution_count": null,
   "metadata": {
    "collapsed": false
   },
   "outputs": [],
   "source": [
    "# REPLACE BY YOUR CODE\n",
    "import solution\n",
    "solution.hierarchical()\n",
    "# --------------------"
   ]
  }
 ],
 "metadata": {
  "anaconda-cloud": {},
  "kernelspec": {
   "display_name": "Python [default]",
   "language": "python",
   "name": "python2"
  },
  "language_info": {
   "codemirror_mode": {
    "name": "ipython",
    "version": 2
   },
   "file_extension": ".py",
   "mimetype": "text/x-python",
   "name": "python",
   "nbconvert_exporter": "python",
   "pygments_lexer": "ipython2",
   "version": "2.7.12"
  }
 },
 "nbformat": 4,
 "nbformat_minor": 0
}
