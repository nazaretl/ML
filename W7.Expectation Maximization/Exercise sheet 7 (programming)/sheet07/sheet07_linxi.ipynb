{
 "cells": [
  {
   "cell_type": "markdown",
   "metadata": {},
   "source": [
    "# Expectation-Maximization\n",
    "\n",
    "In this assignment we will be using the Expectation Maximization method to estimate the parameters of the same three coin experiment as in the theoretical part. We will examine the behavior of the algorithm for various combinations of parameters.\n",
    "\n",
    "## Description of the Experiment\n",
    "\n",
    "The following procedure generates the data for the three coin experiment.\n",
    "\n",
    "The parameters are:\n",
    "\n",
    "- $\\lambda$ := The probability of heads on the hidden coin H.\n",
    "\n",
    "- $p_1$ := The probability of heads on coin A.\n",
    "\n",
    "- $p_2$ := The probability of heads on coin B.\n",
    "\n",
    "Each of the $N$ samples is collected the following way:\n",
    "\n",
    "- The secret coin (H) is tossed.\n",
    "\n",
    "- If the result is heads, coin A is tossed $M$ times and the results are recorded.\n",
    "\n",
    "- If the result is tails, coin B is tossed $M$ times and the results are recorded.\n",
    "\n",
    "**Heads are recorded as 1.** \n",
    "\n",
    "**Tails are recorded as 0.**\n",
    "\n",
    "The data is returned as an **$N \\times M$** matrix, where each of the $N$ rows correspond to the trials and contains the results of the corresponding sample (generated either by coin A or by coin B).\n",
    "\n",
    "## Description of Provided Functions\n",
    "\n",
    "Three functions are provided for your convenience:\n",
    "\n",
    "*  **`utils.generateData(lambda,p1,p2,N,M)`:** Performs the experiment $N$ times with coin parameters specified as argument and returns the results in a $N \\times M$ matrix.\n",
    "\n",
    "\n",
    "* **`utils.unknownData()`** Returns a dataset of size $N \\times M$ where generation parameters are unknown.\n",
    "\n",
    "\n",
    "*  **`utils.plot(data,distribution)`:** Plot a histogram of the number of heads per trial along with the probability distribution. This function will be used to visualize the progress of the EM algorithm at every iteration.\n",
    "\n",
    "An example of use of these two functions is given below:"
   ]
  },
  {
   "cell_type": "code",
   "execution_count": 2,
   "metadata": {
    "collapsed": false
   },
   "outputs": [
    {
     "name": "stdout",
     "output_type": "stream",
     "text": [
      "[[1 0 1 1 1]\n",
      " [1 1 1 0 0]\n",
      " [0 0 0 0 0]\n",
      " [1 1 1 1 1]\n",
      " [0 1 1 1 1]\n",
      " [1 0 0 1 1]\n",
      " [0 1 1 0 0]\n",
      " [1 1 1 1 1]\n",
      " [1 1 0 1 1]\n",
      " [1 0 0 1 1]\n",
      " [0 1 0 0 0]\n",
      " [1 0 1 1 1]\n",
      " [0 0 1 0 1]\n",
      " [1 0 0 0 1]\n",
      " [0 0 0 0 0]]\n"
     ]
    },
    {
     "data": {
      "image/png": "[encoded data removed]",
      "text/plain": [
       "<matplotlib.figure.Figure at 0x10cdf6f60>"
      ]
     },
     "metadata": {},
     "output_type": "display_data"
    }
   ],
   "source": [
    "%matplotlib inline\n",
    "import numpy,utils\n",
    "\n",
    "# Print the data matrix as a result of the three coins experiment with parameter 0.5, 0.8 and 0.2.\n",
    "data = utils.generateData(0.5,0.8,0.2,15,5)\n",
    "print (data)\n",
    "\n",
    "# Print the data histogram along with a uniform probability distribution.\n",
    "utils.plot(data,numpy.ones([data.shape[1]+1])/(data.shape[1]+1))"
   ]
  },
  {
   "cell_type": "markdown",
   "metadata": {},
   "source": [
    "## Calculate the Log-Likelihood (10 P)\n",
    "\n",
    "Implement a function which calculates the log likelihood for a given dataset and parameters. The log-likelihood is given by:\n",
    "$$\n",
    "LL = \\frac1N \\sum_{i=1}^N \\log \\!\\! \\sum_{z \\in \\{\\mathrm{heads},\\mathrm{tails}\\}} \\!\\! P(X=x_i, Z=z \\mid \\theta)\\\\\n",
    "   = \\frac1N \\sum_{i=1}^N \\log \\left[ \\lambda \\cdot p_1^{h(x_i)} \\cdot (1-p_1)^{t(x_i)} + (1-\\lambda) \\cdot p_2^{h(x_i)} \\cdot (1-p_2)^{t(x_i)} \\right]\n",
    "$$\n",
    "where $h(x_i)$ and $t(x_i)$ denote the number of heads and tails in sample $i$, respectively. Note that we take the averaged log-likelihood over all trials, hence the multiplicative term $\\frac1N$ in front."
   ]
  },
  {
   "cell_type": "code",
   "execution_count": null,
   "metadata": {
    "collapsed": false
   },
   "outputs": [],
   "source": [
    "def loglikelihood(data,lam,p1,p2):\n",
    "    pass"
   ]
  },
  {
   "cell_type": "markdown",
   "metadata": {},
   "source": [
    "## Implementing and Running the EM Algorithm (30 P)\n",
    "\n",
    "Implement a function which iteratively determines the values of $\\lambda$, $p_1$ and $p_2$. The function starts with some initial estimates for the parameters and returns the results of the method for those parameters.\n",
    "\n",
    "In each iteration, the following update rules are used for the parameters:\n",
    "\n",
    "$$\\lambda^{new} = \\frac{E(\\#heads(coin\\_H))}{\\#throws(coin\\_H)} = \\frac{1}{N}\\sum_{i=1}^{N}\\frac{\\lambda p_1^{h(x_i)}(1-p_1)^{t(x_i)}}{\\lambda p_1^{h(x_i)}(1-p_1)^{t(x_i)} + (1-\\lambda)p_2^{h(x_i)}(1-p_2)^{t(x_i)}}$$\n",
    "\n",
    "$$p_1^{new} = \\frac{E(\\#heads(coin\\_A))}{E(\\#throws(coin\\_A))} = \\frac{\\sum_{i=1}^{N}R_1(i)h(x_i)}{M \\sum_{i=1}^{N}R_1(i)}$$\n",
    "\n",
    "$$p_2^{new} = \\frac{E(\\#heads(coin\\_B))}{E(\\#throws(coin\\_B))} = \\frac{\\sum_{i=1}^{N}R_2(i)h(x_i)}{M \\sum_{i=1}^{N}R_2(i)}$$\n",
    "\n",
    "where $h(x_i)$ and $t(x_i)$ denote the number of heads and tails in sample i, respectively, and\n",
    "\n",
    "$$R_1(i) = \\frac{\\lambda p_1^{h(x_i)}(1-p_1)^{t(x_i)}}{\\lambda p_1^{h(x_i)}(1-p_1)^{t(x_i)} + (1-\\lambda)p_2^{h(x_i)}(1-p_2)^{t(x_i)}}$$\n",
    "\n",
    "$$R_2(i) = \\frac{(1-\\lambda) p_2^{h(x_i)}(1-p_2)^{t(x_i)}}{\\lambda p_1^{h(x_i)}(1-p_1)^{t(x_i)} + (1-\\lambda)p_2^{h(x_i)}(1-p_2)^{t(x_i)}}$$\n",
    "\n",
    "\n",
    "**TODO:**\n",
    "\n",
    "* **Implement the EM learning procedure.**\n",
    "* **Use as stopping criterion the improvement of log-likelihood between two iterations to be smaller than $0.001$.**\n",
    "* **Run the EM procedure on the data returned by function `utils.unknownData()`. Use as an initial solution for your model the parameters $\\lambda = 0.5$, $p_1 = 0.25$, $p_2 = 0.75$ **.\n",
    "* **At each iteration of the EM procedure, print the log-likelihood and the value of your model parameters, and plot the learned probability distribution using the function utils.plot().**"
   ]
  },
  {
   "cell_type": "code",
   "execution_count": 12,
   "metadata": {
    "collapsed": false
   },
   "outputs": [
    {
     "ename": "SyntaxError",
     "evalue": "invalid syntax (<ipython-input-12-013036a38c97>, line 34)",
     "output_type": "error",
     "traceback": [
      "\u001b[0;36m  File \u001b[0;32m\"<ipython-input-12-013036a38c97>\"\u001b[0;36m, line \u001b[0;32m34\u001b[0m\n\u001b[0;31m    print 'it:%2d  lambda: %.2f  p1: %.2f  p2: %.2f  log-likelihood: %.3f'%(\u001b[0m\n\u001b[0m                                                                         ^\u001b[0m\n\u001b[0;31mSyntaxError\u001b[0m\u001b[0;31m:\u001b[0m invalid syntax\n"
     ]
    }
   ],
   "source": [
    "import utils\n",
    "import numpy\n",
    "%matplotlib inline\n",
    "\n",
    "# --------------------\n",
    "# REPLACE BY YOUR CODE\n",
    "#import solution; solution.EM()\n",
    "# --------------------\n",
    "\n",
    "def EM(lam, p1, p2, X, N, M):\n",
    "    r1 = numpy.zeros(N)\n",
    "    r2 = numpy.zeros(M)\n",
    "    heads = numpy.array([sum(X[:,i]) for i in range(len(X[0]))])\n",
    "# -------------------------------------------\n",
    "#TODO: Initialize the model\n",
    "    lam_old = 0.5\n",
    "    p1_old  = 0.25\n",
    "    p2_old  = 0.75\n",
    "# Iterate until the stopping criterion is satisfied\n",
    "    while((abs(lam - lam_old) + abs(p1 - p1_old) + abs(p2 - p2_old)) > 0.0001):\n",
    "        pp1 = lam * (p1 ** heads[:]) * ((1-p1)**(M - heads[:]))\n",
    "        pp2 = (1-lam)* (p2 ** heads[:]) * ((1-p2)**(M - heads[:]))\n",
    "        r1 = pp1 / (pp1 + pp2)\n",
    "        r2 = pp2 / (pp1 + pp2)\n",
    "        p1_old = p1\n",
    "        p2_old = p2\n",
    "        lam_old = lam\n",
    "        p1 = sum(r1 * heads) / (M * sum(r1))\n",
    "        p2 = sum(r2 * heads) / (M * sum(r2))\n",
    "        lam = sum(r1) / N\n",
    "    return lam, p1,p2\n",
    "\n",
    "\n",
    "    print 'it:%2d  lambda: %.2f  p1: %.2f  p2: %.2f  log-likelihood: %.3f'%(\n",
    "            it, lam, p1, p2, loglikelihood)\n",
    "# -------------------------------------------\n",
    "utils.plot(data,numpy.ones([data.shape[1]+1])/(data.shape[1]+1))"
   ]
  },
  {
   "cell_type": "markdown",
   "metadata": {},
   "source": [
    "## More Experiments (10 P)\n",
    "\n",
    "Examine the behaviour of the EM algorithm for various combinations of data generation parameters and initializations (for generating various distributions, use the method `utils.generateData(...)`). In particular, find settings for which:\n",
    "\n",
    "* The role of coins $A$ and $B$ are permuted between the data generating model and the learned model (i.e. $\\hat p_1 \\approx p_2$, $\\hat p_2 \\approx p_1$ and $\\hat \\lambda \\approx 1-\\lambda$).\n",
    "\n",
    "* The EM procedure takes a long time to converge.\n",
    "\n",
    "Print the parameters and log-likelihood objective at each iteration. Only display the plot for the converged model."
   ]
  }
 ],
 "metadata": {
  "anaconda-cloud": {},
  "kernelspec": {
   "display_name": "Python 3",
   "language": "python",
   "name": "python3"
  },
  "language_info": {
   "codemirror_mode": {
    "name": "ipython",
    "version": 3
   },
   "file_extension": ".py",
   "mimetype": "text/x-python",
   "name": "python",
   "nbconvert_exporter": "python",
   "pygments_lexer": "ipython3",
   "version": "3.5.2"
  }
 },
 "nbformat": 4,
 "nbformat_minor": 0
}
